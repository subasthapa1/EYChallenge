{
 "cells": [
  {
   "cell_type": "markdown",
   "id": "028a3677",
   "metadata": {},
   "source": [
    "# Level 1: Rice Crop Discovery Tool Notebook"
   ]
  },
  {
   "cell_type": "code",
   "execution_count": 1,
   "id": "4af42b00",
   "metadata": {},
   "outputs": [],
   "source": [
    "# Supress Warnings\n",
    "import warnings\n",
    "warnings.filterwarnings('ignore')\n",
    "\n",
    "#Date time\n",
    "import datetime as dt\n",
    "from datetime import timedelta, date\n",
    "\n",
    "# Visualization\n",
    "import ipyleaflet\n",
    "import matplotlib.pyplot as plt\n",
    "from IPython.display import Image\n",
    "import seaborn as sns\n",
    "\n",
    "# Data Science\n",
    "import numpy as np\n",
    "import pandas as pd\n",
    "\n",
    "# Feature Engineering\n",
    "from sklearn.preprocessing import StandardScaler\n",
    "from sklearn.model_selection import train_test_split\n",
    "\n",
    "# Machine Learning\n",
    "from sklearn.linear_model import LogisticRegression\n",
    "from sklearn.metrics import f1_score, accuracy_score,classification_report,confusion_matrix\n",
    "\n",
    "# Planetary Computer Tools\n",
    "import pystac\n",
    "import pystac_client\n",
    "import odc\n",
    "from pystac_client import Client\n",
    "from pystac.extensions.eo import EOExtension as eo\n",
    "from odc.stac import stac_load\n",
    "import planetary_computer as pc\n",
    "pc.settings.set_subscription_key('b0067a12405d4fd4a4cc82d28869d9bc')\n",
    "\n",
    "# Others\n",
    "import requests\n",
    "import rich.table\n",
    "from itertools import cycle\n",
    "from tqdm import tqdm\n",
    "tqdm.pandas()"
   ]
  },
  {
   "cell_type": "markdown",
   "id": "dccddfbf",
   "metadata": {},
   "source": [
    "#### Reading dataset provided by EY data challenge"
   ]
  },
  {
   "cell_type": "code",
   "execution_count": 2,
   "id": "fdb8d48c",
   "metadata": {},
   "outputs": [
    {
     "data": {
      "text/html": [
       "<div>\n",
       "<style scoped>\n",
       "    .dataframe tbody tr th:only-of-type {\n",
       "        vertical-align: middle;\n",
       "    }\n",
       "\n",
       "    .dataframe tbody tr th {\n",
       "        vertical-align: top;\n",
       "    }\n",
       "\n",
       "    .dataframe thead th {\n",
       "        text-align: right;\n",
       "    }\n",
       "</style>\n",
       "<table border=\"1\" class=\"dataframe\">\n",
       "  <thead>\n",
       "    <tr style=\"text-align: right;\">\n",
       "      <th></th>\n",
       "      <th>Latitude and Longitude</th>\n",
       "      <th>Class of Land</th>\n",
       "    </tr>\n",
       "  </thead>\n",
       "  <tbody>\n",
       "    <tr>\n",
       "      <th>0</th>\n",
       "      <td>(10.323727047081501, 105.2516346045924)</td>\n",
       "      <td>Rice</td>\n",
       "    </tr>\n",
       "    <tr>\n",
       "      <th>1</th>\n",
       "      <td>(10.322364360592521, 105.27843410554115)</td>\n",
       "      <td>Rice</td>\n",
       "    </tr>\n",
       "    <tr>\n",
       "      <th>2</th>\n",
       "      <td>(10.321455902933202, 105.25254306225168)</td>\n",
       "      <td>Rice</td>\n",
       "    </tr>\n",
       "    <tr>\n",
       "      <th>3</th>\n",
       "      <td>(10.324181275911162, 105.25118037576274)</td>\n",
       "      <td>Rice</td>\n",
       "    </tr>\n",
       "    <tr>\n",
       "      <th>4</th>\n",
       "      <td>(10.324635504740822, 105.27389181724476)</td>\n",
       "      <td>Rice</td>\n",
       "    </tr>\n",
       "  </tbody>\n",
       "</table>\n",
       "</div>"
      ],
      "text/plain": [
       "                     Latitude and Longitude Class of Land\n",
       "0   (10.323727047081501, 105.2516346045924)          Rice\n",
       "1  (10.322364360592521, 105.27843410554115)          Rice\n",
       "2  (10.321455902933202, 105.25254306225168)          Rice\n",
       "3  (10.324181275911162, 105.25118037576274)          Rice\n",
       "4  (10.324635504740822, 105.27389181724476)          Rice"
      ]
     },
     "execution_count": 2,
     "metadata": {},
     "output_type": "execute_result"
    }
   ],
   "source": [
    "crop_presence_data = pd.read_csv(\"./Data/Crop_Location_Data_20221201.csv\")\n",
    "crop_presence_data.head()"
   ]
  },
  {
   "cell_type": "code",
   "execution_count": 3,
   "id": "61fe38b8",
   "metadata": {},
   "outputs": [],
   "source": [
    "def get_sentinel_data(latlong,time_slice,assets):\n",
    "    latlong=latlong.replace('(','').replace(')','').replace(' ','').split(',')\n",
    "    bbox_of_interest = (float(latlong[1]) , float(latlong[0]), float(latlong[1]) , float(latlong[0]))\n",
    "    time_of_interest = time_slice\n",
    "    \n",
    "    catalog = pystac_client.Client.open(\n",
    "        \"https://planetarycomputer.microsoft.com/api/stac/v1\"\n",
    "    )\n",
    "    search = catalog.search(\n",
    "        collections=[\"sentinel-1-rtc\"], bbox=bbox_of_interest, datetime=time_of_interest\n",
    "    )\n",
    "    items = list(search.get_all_items())\n",
    "    bands_of_interest = assests\n",
    "    data = stac_load([items[0]], patch_url=pc.sign, bbox=bbox_of_interest).isel(time=0)\n",
    "    vh = data[\"vh\"].astype(\"float\").values.tolist()[0][0]\n",
    "    vv = data[\"vv\"].astype(\"float\").values.tolist()[0][0]\n",
    "    \n",
    "    return vh,vv"
   ]
  },
  {
   "cell_type": "code",
   "execution_count": 5,
   "id": "c132d481",
   "metadata": {},
   "outputs": [
    {
     "name": "stderr",
     "output_type": "stream",
     "text": [
      "100%|████████████████████████████████████████████████████████████████████████████████| 600/600 [02:38<00:00,  3.80it/s]\n"
     ]
    }
   ],
   "source": [
    "## Function call to extract VV,VH Values\n",
    "time_slice = \"2020-03-20/2020-03-21\"\n",
    "assests = ['vh','vv']\n",
    "vh_vv = []\n",
    "for coordinates in tqdm(crop_presence_data['Latitude and Longitude']):\n",
    "    vh_vv.append(get_sentinel_data(coordinates,time_slice,assests))\n",
    "vh_vv_data = pd.DataFrame(vh_vv,columns =['vh','vv'])"
   ]
  },
  {
   "cell_type": "code",
   "execution_count": 8,
   "id": "1496ea43",
   "metadata": {},
   "outputs": [],
   "source": [
    "def combine_all_datasets(dataset1,dataset2, dataset3):\n",
    "    '''\n",
    "    Returns a  vertically concatenated dataset.\n",
    "    Attributes:\n",
    "    dataset1 - Dataset 1 to be combined \n",
    "    dataset2 - Dataset 2 to be combined\n",
    "    dataset3- Dataset 3 to be combined\n",
    "    '''\n",
    "    data = pd.concat([dataset1,dataset2, dataset3], axis=1)\n",
    "    return data"
   ]
  },
  {
   "cell_type": "markdown",
   "id": "4cf74821",
   "metadata": {},
   "source": [
    "### RVI calculation"
   ]
  },
  {
   "cell_type": "markdown",
   "id": "88b478ed",
   "metadata": {},
   "source": [
    "#### Calculate the bounding box"
   ]
  },
  {
   "cell_type": "code",
   "execution_count": 50,
   "id": "e3e3bfd4",
   "metadata": {},
   "outputs": [],
   "source": [
    "def calculate_bbox(lat_long, box_size_deg=0.0004):\n",
    "    lat_long=lat_long.replace('(','').replace(')','').replace(' ','').split(',')\n",
    "    \n",
    "    min_lon = float(lat_long[1]) - box_size_deg/2\n",
    "    min_lat = float(lat_long[0])- box_size_deg/2\n",
    "    max_lon = float(lat_long[1]) + box_size_deg/2\n",
    "    max_lat = float(lat_long[0]) + box_size_deg/2\n",
    "    \n",
    "    return min_lon, min_lat, max_lon, max_lat\n"
   ]
  },
  {
   "cell_type": "code",
   "execution_count": 51,
   "id": "c590a861",
   "metadata": {},
   "outputs": [],
   "source": [
    "time_of_interest = '2021-12-01/2022-12-01'\n",
    "resolution = 10  # meters per pixel \n",
    "scale = resolution / 111320.0 # degrees per pixel for crs=4326 "
   ]
  },
  {
   "cell_type": "code",
   "execution_count": 57,
   "id": "a839a81c",
   "metadata": {},
   "outputs": [],
   "source": [
    "def create_rvi_for_each_aoi(time_of_interest, bbox):\n",
    "    catalog = pystac_client.Client.open(\"https://planetarycomputer.microsoft.com/api/stac/v1\")\n",
    "    search = catalog.search(collections=[\"sentinel-1-rtc\"], bbox=bbox, datetime=time_of_interest)\n",
    "    items = list(search.get_all_items())\n",
    "    # Load the data using Open Data Cube\n",
    "    data = stac_load(items,bands=[\"vv\", \"vh\"], patch_url=pc.sign, bbox=bbox, crs=\"EPSG:4326\", resolution=scale)\n",
    "    # Calculate the mean of the data across the sample region\n",
    "    mean = data.mean(dim=['latitude','longitude']).compute()\n",
    "    # Calculate RVI\n",
    "    dop = (mean.vv / (mean.vv + mean.vh))\n",
    "    m = 1 - dop\n",
    "    rvi = (np.sqrt(dop))*((4*mean.vh)/(mean.vv + mean.vh))\n",
    "    return rvi"
   ]
  },
  {
   "cell_type": "code",
   "execution_count": 53,
   "id": "36214fb9",
   "metadata": {},
   "outputs": [
    {
     "name": "stderr",
     "output_type": "stream",
     "text": [
      "100%|████████████████████████████████████████████████████████████████████████████| 600/600 [00:00<00:00, 101417.84it/s]\n"
     ]
    }
   ],
   "source": [
    "rvi_df = pd.DataFrame()\n",
    "bbox = []\n",
    "for coordinates in tqdm(crop_presence_data['Latitude and Longitude']):\n",
    "    bbox.append(calculate_bbox(coordinates))\n",
    "\n",
    "bbox_data = pd.DataFrame(bbox,columns =['min_lon', 'min_lat', 'max_lon', 'max_lat'])\n",
    "#create_scene_id(time_of_interest, bbox)"
   ]
  },
  {
   "cell_type": "code",
   "execution_count": null,
   "id": "6d035f95",
   "metadata": {},
   "outputs": [],
   "source": [
    "for items in \n",
    "items = create_scene_id(time_of_interest, )"
   ]
  },
  {
   "cell_type": "code",
   "execution_count": 18,
   "id": "f0975a46",
   "metadata": {},
   "outputs": [
    {
     "ename": "NameError",
     "evalue": "name 'items' is not defined",
     "output_type": "error",
     "traceback": [
      "\u001b[1;31m---------------------------------------------------------------------------\u001b[0m",
      "\u001b[1;31mNameError\u001b[0m                                 Traceback (most recent call last)",
      "Cell \u001b[1;32mIn[18], line 2\u001b[0m\n\u001b[0;32m      1\u001b[0m \u001b[38;5;66;03m# Load the data using Open Data Cube\u001b[39;00m\n\u001b[1;32m----> 2\u001b[0m data \u001b[38;5;241m=\u001b[39m stac_load(\u001b[43mitems\u001b[49m,bands\u001b[38;5;241m=\u001b[39m[\u001b[38;5;124m\"\u001b[39m\u001b[38;5;124mvv\u001b[39m\u001b[38;5;124m\"\u001b[39m, \u001b[38;5;124m\"\u001b[39m\u001b[38;5;124mvh\u001b[39m\u001b[38;5;124m\"\u001b[39m], patch_url\u001b[38;5;241m=\u001b[39mpc\u001b[38;5;241m.\u001b[39msign, bbox\u001b[38;5;241m=\u001b[39mbbox, crs\u001b[38;5;241m=\u001b[39m\u001b[38;5;124m\"\u001b[39m\u001b[38;5;124mEPSG:4326\u001b[39m\u001b[38;5;124m\"\u001b[39m, resolution\u001b[38;5;241m=\u001b[39mscale)\n",
      "\u001b[1;31mNameError\u001b[0m: name 'items' is not defined"
     ]
    }
   ],
   "source": [
    "# Load the data using Open Data Cube\n",
    "data = stac_load(items,bands=[\"vv\", \"vh\"], patch_url=pc.sign, bbox=bbox, crs=\"EPSG:4326\", resolution=scale)"
   ]
  },
  {
   "cell_type": "code",
   "execution_count": null,
   "id": "62992357",
   "metadata": {},
   "outputs": [],
   "source": []
  }
 ],
 "metadata": {
  "kernelspec": {
   "display_name": "Python 3 (ipykernel)",
   "language": "python",
   "name": "python3"
  },
  "language_info": {
   "codemirror_mode": {
    "name": "ipython",
    "version": 3
   },
   "file_extension": ".py",
   "mimetype": "text/x-python",
   "name": "python",
   "nbconvert_exporter": "python",
   "pygments_lexer": "ipython3",
   "version": "3.8.0"
  }
 },
 "nbformat": 4,
 "nbformat_minor": 5
}
